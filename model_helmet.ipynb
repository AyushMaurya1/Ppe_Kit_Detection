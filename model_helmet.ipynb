{
 "cells": [
  {
   "cell_type": "code",
   "execution_count": null,
   "metadata": {},
   "outputs": [
    {
     "name": "stdout",
     "output_type": "stream",
     "text": [
      "Ultralytics 8.3.34  Python-3.8.20 torch-2.4.1+cpu CPU (AMD Ryzen 5 5600H with Radeon Graphics)\n",
      "\u001b[34m\u001b[1mengine\\trainer: \u001b[0mtask=detect, mode=train, model=yolov8n.pt, data=lvis.yaml, epochs=100, time=None, patience=100, batch=16, imgsz=640, save=True, save_period=-1, cache=False, device=None, workers=8, project=None, name=train2, exist_ok=False, pretrained=True, optimizer=auto, verbose=True, seed=0, deterministic=True, single_cls=False, rect=False, cos_lr=False, close_mosaic=10, resume=False, amp=True, fraction=1.0, profile=False, freeze=None, multi_scale=False, overlap_mask=True, mask_ratio=4, dropout=0.0, val=True, split=val, save_json=False, save_hybrid=False, conf=None, iou=0.7, max_det=300, half=False, dnn=False, plots=True, source=None, vid_stride=1, stream_buffer=False, visualize=False, augment=False, agnostic_nms=False, classes=None, retina_masks=False, embed=None, show=False, save_frames=False, save_txt=False, save_conf=False, save_crop=False, show_labels=True, show_conf=True, show_boxes=True, line_width=None, format=torchscript, keras=False, optimize=False, int8=False, dynamic=False, simplify=True, opset=None, workspace=4, nms=False, lr0=0.01, lrf=0.01, momentum=0.937, weight_decay=0.0005, warmup_epochs=3.0, warmup_momentum=0.8, warmup_bias_lr=0.1, box=7.5, cls=0.5, dfl=1.5, pose=12.0, kobj=1.0, label_smoothing=0.0, nbs=64, hsv_h=0.015, hsv_s=0.7, hsv_v=0.4, degrees=0.0, translate=0.1, scale=0.5, shear=0.0, perspective=0.0, flipud=0.0, fliplr=0.5, bgr=0.0, mosaic=1.0, mixup=0.0, copy_paste=0.0, copy_paste_mode=flip, auto_augment=randaugment, erasing=0.4, crop_fraction=1.0, cfg=None, tracker=botsort.yaml, save_dir=runs\\detect\\train2\n",
      "\n",
      "Dataset 'lvis.yaml' images not found , missing path 'C:\\Users\\ayush\\Downloads\\PPE-Detection-master\\PPE-Detection-master\\datasets\\lvis\\val.txt'\n",
      "Downloading https://ultralytics.com/assets/lvis-labels-segments.zip to 'C:\\Users\\ayush\\Downloads\\PPE-Detection-master\\PPE-Detection-master\\datasets\\lvis-labels-segments.zip'...\n"
     ]
    },
    {
     "name": "stderr",
     "output_type": "stream",
     "text": [
      "100%|██████████| 497M/497M [00:51<00:00, 10.1MB/s] \n",
      "Unzipping C:\\Users\\ayush\\Downloads\\PPE-Detection-master\\PPE-Detection-master\\datasets\\lvis-labels-segments.zip to C:\\Users\\ayush\\Downloads\\PPE-Detection-master\\PPE-Detection-master\\datasets\\lvis...: 100%|██████████| 119029/119029 [01:58<00:00, 1004.73file/s]\n"
     ]
    },
    {
     "name": "stdout",
     "output_type": "stream",
     "text": [
      "Downloading http://images.cocodataset.org/zips/train2017.zip to 'C:\\Users\\ayush\\Downloads\\PPE-Detection-master\\PPE-Detection-master\\datasets\\lvis\\images\\train2017.zip'...\n",
      "Downloading http://images.cocodataset.org/zips/val2017.zip to 'C:\\Users\\ayush\\Downloads\\PPE-Detection-master\\PPE-Detection-master\\datasets\\lvis\\images\\val2017.zip'...\n",
      "Downloading http://images.cocodataset.org/zips/test2017.zip to 'C:\\Users\\ayush\\Downloads\\PPE-Detection-master\\PPE-Detection-master\\datasets\\lvis\\images\\test2017.zip'...\n"
     ]
    }
   ],
   "source": [
    "from ultralytics import YOLO\n",
    "\n",
    "# Load a YOLOv8 model (pre-trained weights)\n",
    "model = YOLO(\"yolov8n.pt\")  # Use a YOLOv8 nano model\n",
    "\n",
    "# Train the model\n",
    "results = model.train(data=\"lvis.yaml\", epochs=100, imgsz=640)\n",
    "\n",
    "# Save the final trained model in .pt format (if not already saved automatically)\n",
    "model.save(\"yolov8n_helmet_detection.pt\")\n"
   ]
  }
 ],
 "metadata": {
  "kernelspec": {
   "display_name": "tensorflow",
   "language": "python",
   "name": "python3"
  },
  "language_info": {
   "codemirror_mode": {
    "name": "ipython",
    "version": 3
   },
   "file_extension": ".py",
   "mimetype": "text/x-python",
   "name": "python",
   "nbconvert_exporter": "python",
   "pygments_lexer": "ipython3",
   "version": "3.8.20"
  }
 },
 "nbformat": 4,
 "nbformat_minor": 2
}
